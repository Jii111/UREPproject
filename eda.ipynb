{
  "nbformat": 4,
  "nbformat_minor": 0,
  "metadata": {
    "colab": {
      "provenance": []
    },
    "kernelspec": {
      "name": "python3",
      "display_name": "Python 3"
    },
    "language_info": {
      "name": "python"
    }
  },
  "cells": [
    {
      "cell_type": "code",
      "execution_count": null,
      "metadata": {
        "id": "cbj1ggVmiU7G"
      },
      "outputs": [],
      "source": [
        "import numpy as np\n",
        "import pandas as pd\n",
        "from matplotlib import pyplot as plt"
      ]
    },
    {
      "cell_type": "markdown",
      "source": [
        "## Preparing Dataset"
      ],
      "metadata": {
        "id": "dMYRk0vxsf0c"
      }
    },
    {
      "cell_type": "code",
      "source": [
        "tcga_normal = pd.read_csv(\"/content/comnormal.csv\")\n",
        "tcga_normal=tcga_normal.drop(tcga_normal.columns[0], axis=1)\n",
        "tcga_normal=tcga_normal.drop(tcga_normal.columns[0], axis=1)\n",
        "tcga_normal['y']=\"Normal\"\n",
        "\n",
        "tcga_blca = pd.read_csv(\"/content/comblca.csv\")\n",
        "tcga_blca=tcga_blca.drop(tcga_blca.columns[0], axis=1)\n",
        "tcga_blca=tcga_blca.drop(tcga_blca.columns[0], axis=1)\n",
        "tcga_blca['y']=\"BC\"\n",
        "\n",
        "urine_normal = pd.read_csv(\"/content/NL_100k_cyto_hg19.csv\")\n",
        "urine_normal=urine_normal.drop(urine_normal.columns[0], axis=1)\n",
        "urine_normal=urine_normal.drop(urine_normal.columns[0], axis=1)\n",
        "urine_normal['y']=\"Normal\"\n",
        "\n",
        "urine_blca = pd.read_csv(\"/content/BLCA_100k_cyto_hg19.csv\")\n",
        "urine_blca=urine_blca.drop(urine_blca.columns[0], axis=1)\n",
        "urine_blca=urine_blca.drop(urine_blca.columns[0], axis=1)\n",
        "urine_blca['y']=\"BC\""
      ],
      "metadata": {
        "id": "GGUba6dSoXIF"
      },
      "execution_count": null,
      "outputs": []
    },
    {
      "cell_type": "code",
      "source": [
        "print(\"====tcga_normal====\")\n",
        "print(\"dim : \",tcga_normal.shape)\n",
        "\n",
        "print()\n",
        "print(\"====tcga_blca====\")\n",
        "print(\"dim : \",tcga_blca.shape)\n",
        "\n",
        "print()\n",
        "print(len(tcga_normal.columns.intersection(tcga_blca.columns)))\n",
        "print(tcga_normal.columns.difference(tcga_blca.columns))\n",
        "\n",
        "tcga = pd.concat([tcga_normal, tcga_blca], axis=0, join='inner')\n",
        "print()\n",
        "print(tcga.shape)\n",
        "\n",
        "tcga = tcga.rename(columns={'Sample':'id'})"
      ],
      "metadata": {
        "colab": {
          "base_uri": "https://localhost:8080/"
        },
        "id": "Nerlxx9mslYm",
        "outputId": "408f5eec-c77c-419e-8723-9a5d324446f7"
      },
      "execution_count": null,
      "outputs": [
        {
          "output_type": "stream",
          "name": "stdout",
          "text": [
            "====tcga_normal====\n",
            "dim :  (388, 788)\n",
            "\n",
            "====tcga_blca====\n",
            "dim :  (409, 787)\n",
            "\n",
            "787\n",
            "Index(['<NA>'], dtype='object')\n",
            "\n",
            "(797, 787)\n"
          ]
        }
      ]
    },
    {
      "cell_type": "code",
      "source": [
        "print(\"====urine_normal====\")\n",
        "print(\"dim : \",urine_normal.shape)\n",
        "\n",
        "print()\n",
        "print(\"====urine_blca====\")\n",
        "print(\"dim : \",urine_blca.shape)\n",
        "\n",
        "print()\n",
        "print(len(urine_normal.columns.intersection(urine_blca.columns)))\n",
        "\n",
        "urine = pd.concat([urine_normal, urine_blca], axis=0, join='inner')\n",
        "print()\n",
        "print(urine.shape)"
      ],
      "metadata": {
        "colab": {
          "base_uri": "https://localhost:8080/"
        },
        "id": "IbIfYu1Jpjdk",
        "outputId": "2f6527c9-771c-42fb-845b-d7e3248e4a39"
      },
      "execution_count": null,
      "outputs": [
        {
          "output_type": "stream",
          "name": "stdout",
          "text": [
            "====urine_normal====\n",
            "dim :  (28, 765)\n",
            "\n",
            "====urine_blca====\n",
            "dim :  (42, 765)\n",
            "\n",
            "765\n",
            "\n",
            "(70, 765)\n"
          ]
        }
      ]
    },
    {
      "cell_type": "code",
      "source": [
        "# tcga data <-> urine data\n",
        "print(\"====tcga====\")\n",
        "print(\"dim : \",tcga.shape)\n",
        "\n",
        "print()\n",
        "print(\"====urine====\")\n",
        "print(\"dim : \",urine.shape)\n",
        "\n",
        "print()\n",
        "print(len(urine.columns.intersection(tcga.columns)))\n",
        "\n",
        "# 겹치지 않는 컬럼 제거\n",
        "common_columns = list(set(urine.columns).intersection(tcga.columns))\n",
        "\n",
        "# 최종 데이터\n",
        "urinef = urine[common_columns]\n",
        "tcgaf = tcga[common_columns]\n",
        "\n",
        "print()\n",
        "print(\"====tcga final====\")\n",
        "print(\"dim : \",tcgaf.shape)\n",
        "\n",
        "print()\n",
        "print(\"====urine final====\")\n",
        "print(\"dim : \",urinef.shape)\n",
        "\n",
        "print()\n",
        "print(\"====difference====\")\n",
        "print(tcgaf.columns.difference(urinef.columns))"
      ],
      "metadata": {
        "colab": {
          "base_uri": "https://localhost:8080/"
        },
        "id": "DPNu4WDDvFBG",
        "outputId": "0796762e-e7fd-4009-9985-a5e97c91a206"
      },
      "execution_count": null,
      "outputs": [
        {
          "output_type": "stream",
          "name": "stdout",
          "text": [
            "====tcga====\n",
            "dim :  (797, 787)\n",
            "\n",
            "====urine====\n",
            "dim :  (70, 765)\n",
            "\n",
            "763\n",
            "\n",
            "====tcga final====\n",
            "dim :  (797, 763)\n",
            "\n",
            "====urine final====\n",
            "dim :  (70, 763)\n",
            "\n",
            "====difference====\n",
            "Index([], dtype='object')\n"
          ]
        }
      ]
    },
    {
      "cell_type": "code",
      "source": [
        "len(set(urine.columns).intersection(tcga.columns))"
      ],
      "metadata": {
        "colab": {
          "base_uri": "https://localhost:8080/"
        },
        "id": "qXGDdvwlwBeL",
        "outputId": "f0bcb288-f740-4ccf-80f7-e0edd4c87f95"
      },
      "execution_count": null,
      "outputs": [
        {
          "output_type": "execute_result",
          "data": {
            "text/plain": [
              "763"
            ]
          },
          "metadata": {},
          "execution_count": 66
        }
      ]
    },
    {
      "cell_type": "code",
      "source": [
        "tcgaf.to_csv(\"/content/tcgaf.csv\")\n",
        "urinef.to_csv(\"/content/urinef.csv\")"
      ],
      "metadata": {
        "id": "7XUM1nkqqg_7"
      },
      "execution_count": null,
      "outputs": []
    },
    {
      "cell_type": "markdown",
      "source": [
        "## EDA"
      ],
      "metadata": {
        "id": "vYe31xiEw0PG"
      }
    },
    {
      "cell_type": "code",
      "source": [
        "tcgaf.shape"
      ],
      "metadata": {
        "colab": {
          "base_uri": "https://localhost:8080/"
        },
        "id": "TJBT9QRLxFgf",
        "outputId": "7e52dd35-b3d7-4a73-b5c3-55e21560660b"
      },
      "execution_count": null,
      "outputs": [
        {
          "output_type": "execute_result",
          "data": {
            "text/plain": [
              "(797, 763)"
            ]
          },
          "metadata": {},
          "execution_count": 67
        }
      ]
    },
    {
      "cell_type": "code",
      "source": [
        "urinef.shape"
      ],
      "metadata": {
        "colab": {
          "base_uri": "https://localhost:8080/"
        },
        "id": "mspXASRaxIZ8",
        "outputId": "bc955877-d6c2-4c7e-87ae-6ae8c5dfad69"
      },
      "execution_count": null,
      "outputs": [
        {
          "output_type": "execute_result",
          "data": {
            "text/plain": [
              "(70, 763)"
            ]
          },
          "metadata": {},
          "execution_count": 68
        }
      ]
    },
    {
      "cell_type": "code",
      "source": [
        "tcgaf.y.value_counts()"
      ],
      "metadata": {
        "colab": {
          "base_uri": "https://localhost:8080/"
        },
        "id": "kwhZSBCpwzwe",
        "outputId": "e92ea49f-bdc8-437f-c097-940a87335df0"
      },
      "execution_count": null,
      "outputs": [
        {
          "output_type": "execute_result",
          "data": {
            "text/plain": [
              "BC        409\n",
              "Normal    388\n",
              "Name: y, dtype: int64"
            ]
          },
          "metadata": {},
          "execution_count": 69
        }
      ]
    },
    {
      "cell_type": "code",
      "source": [
        "urinef.y.value_counts()"
      ],
      "metadata": {
        "colab": {
          "base_uri": "https://localhost:8080/"
        },
        "id": "PAvZ199hw4iA",
        "outputId": "f256920f-e528-4357-c879-e1cff75190bf"
      },
      "execution_count": null,
      "outputs": [
        {
          "output_type": "execute_result",
          "data": {
            "text/plain": [
              "BC        42\n",
              "Normal    28\n",
              "Name: y, dtype: int64"
            ]
          },
          "metadata": {},
          "execution_count": 70
        }
      ]
    },
    {
      "cell_type": "code",
      "source": [
        "sum(tcgaf.isnull().sum())"
      ],
      "metadata": {
        "colab": {
          "base_uri": "https://localhost:8080/"
        },
        "id": "mFzT49ePxVzy",
        "outputId": "b1b9ffee-c7cf-4702-e738-af60e3286a56"
      },
      "execution_count": null,
      "outputs": [
        {
          "output_type": "execute_result",
          "data": {
            "text/plain": [
              "0"
            ]
          },
          "metadata": {},
          "execution_count": 71
        }
      ]
    },
    {
      "cell_type": "code",
      "source": [
        "sum(urinef.isnull().sum())"
      ],
      "metadata": {
        "colab": {
          "base_uri": "https://localhost:8080/"
        },
        "id": "jI80hJujxXop",
        "outputId": "8609e84d-b136-4485-ea94-b881049cfcbc"
      },
      "execution_count": null,
      "outputs": [
        {
          "output_type": "execute_result",
          "data": {
            "text/plain": [
              "0"
            ]
          },
          "metadata": {},
          "execution_count": 72
        }
      ]
    },
    {
      "cell_type": "code",
      "source": [
        "tcgaf.info()"
      ],
      "metadata": {
        "colab": {
          "base_uri": "https://localhost:8080/"
        },
        "id": "UT55bCE1eXrx",
        "outputId": "6cc7a32f-b5dd-4ee4-ca23-fa02b9a186e8"
      },
      "execution_count": null,
      "outputs": [
        {
          "output_type": "stream",
          "name": "stdout",
          "text": [
            "<class 'pandas.core.frame.DataFrame'>\n",
            "Int64Index: 797 entries, 0 to 408\n",
            "Columns: 763 entries, cyto.19q13.43 to cyto.3p22.1\n",
            "dtypes: float64(762), object(1)\n",
            "memory usage: 4.6+ MB\n"
          ]
        }
      ]
    },
    {
      "cell_type": "code",
      "source": [
        "pd.to_numeric(tcgaf.iloc[1, 1:765], errors='coerce').plot()\n",
        "plt.tick_params(axis='x', labelsize=8, rotation=45)\n",
        "plt.show()"
      ],
      "metadata": {
        "colab": {
          "base_uri": "https://localhost:8080/",
          "height": 475
        },
        "id": "G0a0NmpTeRAm",
        "outputId": "98fc9513-cf89-4d0c-847d-5ebcc73aad52"
      },
      "execution_count": null,
      "outputs": [
        {
          "output_type": "display_data",
          "data": {
            "text/plain": [
              "<Figure size 640x480 with 1 Axes>"
            ],
            "image/png": "[encoded data removed]"
          },
          "metadata": {}
        }
      ]
    }
  ]
}